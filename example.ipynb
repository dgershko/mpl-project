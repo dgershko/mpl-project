{
 "cells": [
  {
   "cell_type": "code",
   "execution_count": 21,
   "metadata": {},
   "outputs": [],
   "source": [
    "import numpy as np\n",
    "import time\n",
    "\n",
    "from vamp_iface import VampInterface\n",
    "from rtde_iface import rtdeRobot\n",
    "from env_consts import obstacle_blocks, target_pose, ref_point_config, home, cube_coords, named_blocks, ref_standing_block\n",
    "ip = \"192.168.56.101\" # sim IP\n",
    "# ip = \"192.168.0.10\" # real robot IP"
   ]
  },
  {
   "cell_type": "markdown",
   "metadata": {},
   "source": [
    "## Example of using vamp interface to render the environment"
   ]
  },
  {
   "cell_type": "code",
   "execution_count": null,
   "metadata": {},
   "outputs": [],
   "source": [
    "vamp_iface = VampInterface()\n",
    "robot = rtdeRobot(ip)\n",
    "for cube in obstacle_blocks:\n",
    "    vamp_iface.add_cuboid_obstacle(cube)\n",
    "\n",
    "vamp_iface.render_env()\n",
    "robot.close()"
   ]
  },
  {
   "cell_type": "markdown",
   "metadata": {},
   "source": [
    "## Example of using vamp to plan a path and execute it"
   ]
  },
  {
   "cell_type": "code",
   "execution_count": null,
   "metadata": {},
   "outputs": [],
   "source": [
    "vamp_iface = VampInterface()\n",
    "robot = rtdeRobot(ip)\n",
    "robot.move_to_config(home)\n",
    "\n",
    "plan = vamp_iface.plan(home, ref_point_config)\n",
    "\n",
    "robot.execute_plan(plan, speed=1.7, acceleration=0.5)\n",
    "\n",
    "print(f\"config: {robot.get_config()}\")\n",
    "robot.close()"
   ]
  },
  {
   "cell_type": "markdown",
   "metadata": {},
   "source": [
    "## Example of using vamp interface to generate a plan and then render it"
   ]
  },
  {
   "cell_type": "code",
   "execution_count": 22,
   "metadata": {},
   "outputs": [
    {
     "name": "stdout",
     "output_type": "stream",
     "text": [
      "argv[0]=\n",
      "startThreads creating 1 threads.\n",
      "starting thread 0\n",
      "started thread 0 \n",
      "argc=3\n",
      "argv[0] = --unused\n",
      "argv[1] = \n",
      "argv[2] = --start_demo_name=Physics Server\n",
      "ExampleBrowserThreadFunc started\n",
      "X11 functions dynamically loaded using dlopen/dlsym OK!\n",
      "X11 functions dynamically loaded using dlopen/dlsym OK!\n",
      "Creating context\n",
      "Created GL 3.3 context\n",
      "Direct GLX rendering context obtained\n",
      "Making context current\n",
      "GL_VENDOR=AMD\n",
      "GL_RENDERER=AMD Radeon Graphics (radeonsi, renoir, LLVM 18.1.6, DRM 3.57, 6.9.5-200.fc40.x86_64)\n",
      "GL_VERSION=4.6 (Core Profile) Mesa 24.1.2\n",
      "GL_SHADING_LANGUAGE_VERSION=4.60\n",
      "pthread_getconcurrency()=0\n",
      "Version = 4.6 (Core Profile) Mesa 24.1.2\n",
      "Vendor = AMD\n",
      "Renderer = AMD Radeon Graphics (radeonsi, renoir, LLVM 18.1.6, DRM 3.57, 6.9.5-200.fc40.x86_64)\n",
      "b3Printf: Selected demo: Physics Server\n",
      "startThreads creating 1 threads.\n",
      "starting thread 0\n",
      "started thread 0 \n",
      "MotionThreadFunc thread started\n",
      "b3Printf: b3Warning[examples/Importers/ImportURDFDemo/BulletUrdfImporter.cpp,126]:\n",
      "\n",
      "b3Printf: No inertial data for link, using mass=1, localinertiadiagonal = 1,1,1, identity local inertial frame\n",
      "b3Printf: b3Warning[examples/Importers/ImportURDFDemo/BulletUrdfImporter.cpp,126]:\n",
      "\n",
      "b3Printf: offset_link\n",
      "b3Printf: b3Warning[examples/Importers/ImportURDFDemo/BulletUrdfImporter.cpp,126]:\n",
      "\n",
      "b3Printf: No inertial data for link, using mass=1, localinertiadiagonal = 1,1,1, identity local inertial frame\n",
      "b3Printf: b3Warning[examples/Importers/ImportURDFDemo/BulletUrdfImporter.cpp,126]:\n",
      "\n",
      "b3Printf: ee_link\n",
      "b3Printf: b3Warning[examples/Importers/ImportURDFDemo/BulletUrdfImporter.cpp,126]:\n",
      "\n",
      "b3Printf: No inertial data for link, using mass=1, localinertiadiagonal = 1,1,1, identity local inertial frame\n",
      "b3Printf: b3Warning[examples/Importers/ImportURDFDemo/BulletUrdfImporter.cpp,126]:\n",
      "\n",
      "b3Printf: tool0\n",
      "b3Printf: b3Warning[examples/Importers/ImportURDFDemo/BulletUrdfImporter.cpp,126]:\n",
      "\n",
      "b3Printf: No inertial data for link, using mass=1, localinertiadiagonal = 1,1,1, identity local inertial frame\n",
      "b3Printf: b3Warning[examples/Importers/ImportURDFDemo/BulletUrdfImporter.cpp,126]:\n",
      "\n",
      "b3Printf: robotiq_force_torque_frame_id\n",
      "b3Printf: b3Warning[examples/Importers/ImportURDFDemo/BulletUrdfImporter.cpp,126]:\n",
      "\n",
      "b3Printf: No inertial data for link, using mass=1, localinertiadiagonal = 1,1,1, identity local inertial frame\n",
      "b3Printf: b3Warning[examples/Importers/ImportURDFDemo/BulletUrdfImporter.cpp,126]:\n",
      "\n",
      "b3Printf: fts_toolside\n",
      "ven = AMD\n",
      "ven = AMD\n",
      "Press `space` to start/stop animation.\n",
      "Use left/right arrow keys to move through individual states.\n",
      "numActiveThreads = 0\n",
      "stopping threads\n",
      "Thread with taskId 0 exiting\n",
      "Thread TERMINATED\n",
      "destroy semaphore\n",
      "semaphore destroyed\n",
      "destroy main semaphore\n",
      "main semaphore destroyed\n",
      "finished\n",
      "numActiveThreads = 0\n",
      "btShutDownExampleBrowser stopping threads\n",
      "Thread with taskId 0 exiting\n",
      "Thread TERMINATED\n",
      "destroy semaphore\n",
      "semaphore destroyed\n",
      "destroy main semaphore\n",
      "main semaphore destroyed\n"
     ]
    }
   ],
   "source": [
    "vamp_iface = VampInterface()\n",
    "robot = rtdeRobot(ip)\n",
    "for cube in obstacle_blocks:\n",
    "    vamp_iface.add_cuboid_obstacle(cube)\n",
    "\n",
    "target_config = robot.get_IK(target_pose, home)\n",
    "\n",
    "plan = vamp_iface.plan(home, target_config)\n",
    "try:\n",
    "    vamp_iface.render_plan(plan)\n",
    "except:\n",
    "    pass\n",
    "robot.close()\n",
    "# note: this kills the notebok"
   ]
  },
  {
   "cell_type": "markdown",
   "metadata": {},
   "source": [
    "## Example of planning times using vamp interface"
   ]
  },
  {
   "cell_type": "code",
   "execution_count": null,
   "metadata": {},
   "outputs": [],
   "source": [
    "vamp_iface = VampInterface()\n",
    "robot = rtdeRobot(ip)\n",
    "robot.move_to_config(home)\n",
    "current_config = home\n",
    "target_config = robot.get_IK(target_pose, home)\n",
    "for cube in obstacle_blocks:\n",
    "    vamp_iface.add_cuboid_obstacle(cube)\n",
    "\n",
    "planning_start = time.time_ns()\n",
    "plan = vamp_iface.plan(current_config, target_config)\n",
    "planning_end = time.time_ns()\n",
    "print(f\"Planning time: {(planning_end - planning_start) / 1e9}s\")\n",
    "print(f\"Plan length: {len(plan)}\")\n",
    "\n",
    "robot.execute_plan(plan, speed=1.7, acceleration=0.5)\n",
    "\n",
    "print(f\"target config: {target_config}, actual config: {robot.get_config()}\")\n",
    "print(f\"target pose: {target_pose}, actual pose: {robot.get_pose()}\")\n",
    "print(f\"Avg. difference in pose: {np.mean(np.abs(np.array(target_pose) - np.array(robot.get_pose())))}\")\n",
    "robot.close()"
   ]
  },
  {
   "cell_type": "markdown",
   "metadata": {},
   "source": [
    "## Example of various functions in rtde_iface"
   ]
  },
  {
   "cell_type": "code",
   "execution_count": null,
   "metadata": {},
   "outputs": [],
   "source": [
    "robot = rtdeRobot(ip)\n",
    "\n",
    "robot.move_to_config(home)\n",
    "\n",
    "# robot status functions\n",
    "print(f\"config: {robot.get_config()}\")\n",
    "print(f\"pose: {robot.get_pose()}\")\n",
    "print(f\"FK for robot in current pose: {robot.get_FK(robot.get_config())}\")\n",
    "\n",
    "# ik functions\n",
    "print(f\"target pose: {target_pose}\")\n",
    "print(f\"ik solution of target pose: {robot.get_IK(target_pose)}\")\n",
    "print(f\"ik solution of current pose which is closest to home: {robot.get_IK(target_pose, home)}\")\n",
    "print(f\"ik solution of current pose which is closest to home within 10cm of position, orientation: {robot.get_IK(target_pose, home, max_position_error=0.1, max_orientation_error=0.1)}\")\n",
    "print(f\"robot is running: {robot.is_program_running()}\")\n",
    "\n",
    "# robot move functions\n",
    "permuted_home = home + np.random.rand(6) * 0.4\n",
    "robot.move_to_config(permuted_home)\n",
    "robot.move_to_config(home, speed=1.7, acceleration=0.5) # can set speed and accel\n",
    "print(\"starting async move\")\n",
    "robot.move_to_config(permuted_home, is_async=True) # move in async mode\n",
    "counter = 0\n",
    "while not np.allclose(robot.get_config(), permuted_home, atol=1e-2):\n",
    "    time.sleep(0.05)\n",
    "    counter += 1\n",
    "    pass\n",
    "print(f\"async move done, {counter} iterations\")\n",
    "\n",
    "robot.move_to_config(home, is_async=True)\n",
    "robot.stop()\n",
    "\n",
    "plan = [home, permuted_home] * 5\n",
    "robot.execute_plan(plan, speed=1.7, acceleration=0.5) # can execute a plan which consists of a series of moves\n",
    "\n",
    "# misc. functions\n",
    "print(f\"program running: {robot.is_program_running()}\")\n",
    "print(f\"pose validation: {robot.validate_pose(target_pose)}\")\n",
    "print(f\"config validation: {robot.validate_config(home)}\")\n",
    "print(\"starting freedrive mode\")\n",
    "robot.start_freedrive_mode() # start freedrive mode\n",
    "time.sleep(5)\n",
    "robot.end_freedrive_mode() # end freedrive mode\n",
    "print(\"freedrive mode ended\")\n",
    "robot.close()"
   ]
  },
  {
   "cell_type": "markdown",
   "metadata": {},
   "source": [
    "## Example of various functions in vamp_iface"
   ]
  },
  {
   "cell_type": "code",
   "execution_count": null,
   "metadata": {},
   "outputs": [],
   "source": [
    "vamp_iface = VampInterface()\n",
    "\n",
    "# adding cuboid obstacles\n",
    "for cube in obstacle_blocks:\n",
    "    vamp_iface.add_cuboid_obstacle(cube)\n",
    "\n",
    "# adding spherical obstacles\n",
    "for x, y, z in cube_coords:\n",
    "    vamp_iface.add_sphere_obstacle([x, z, y], 0.025)\n",
    "\n",
    "# config validation, collision checking\n",
    "print(f\"config validation: [legal] {vamp_iface.validate_config(home)}\")\n",
    "print(f\"config validation: [illegal] {vamp_iface.validate_config(ref_point_config)}\")\n",
    "print(f\"colliding obstacles: {vamp_iface.which_collides(ref_point_config, named_blocks)}\")\n",
    "\n",
    "# planning\n",
    "robot.close()\n",
    "robot = rtdeRobot(ip)\n",
    "start_time = time.time_ns()\n",
    "plan = vamp_iface.plan(home, robot.get_IK(target_pose, home))\n",
    "end_time = time.time_ns()\n",
    "print(f\"Plan length: {len(plan)}, took {(end_time - start_time) / 1e9}s to plan\")\n",
    "\n",
    "vamp_iface.reset_env() # remove obstacles from environment\n",
    "start_time = time.time_ns()\n",
    "plan = vamp_iface.plan(home, ref_point_config)\n",
    "end_time = time.time_ns()\n",
    "print(f\"Plan length: {len(plan)}, took {(end_time - start_time) / 1e9}s to plan\")\n",
    "\n",
    "\n",
    "for cube in obstacle_blocks:\n",
    "    vamp_iface.add_cuboid_obstacle(cube)\n",
    "\n",
    "# adding spherical obstacles\n",
    "for x, y, z in cube_coords:\n",
    "    vamp_iface.add_sphere_obstacle([x, z, y], 0.025)\n",
    "random_config = vamp_iface.generate_random_config()\n",
    "print(f\"random config: {random_config}\")\n",
    "print(f\"config valid: {vamp_iface.validate_config(random_config)}\")\n",
    "time_start_ns = time.time_ns()\n",
    "plan = vamp_iface.plan(home, random_config)\n",
    "time_end_ns = time.time_ns()\n",
    "print(f\"Plan length: {len(plan)}, took {(time_end_ns - time_start_ns) / 1e9}s to plan\")\n",
    "\n",
    "robot.close()"
   ]
  },
  {
   "cell_type": "markdown",
   "metadata": {},
   "source": [
    "## Example of calibrating z offset"
   ]
  },
  {
   "cell_type": "code",
   "execution_count": 20,
   "metadata": {},
   "outputs": [],
   "source": [
    "robot = rtdeRobot(ip)\n",
    "vamp_iface = VampInterface()\n",
    "robot.start_freedrive_mode()\n",
    "print(\"Move robot to position where it's body touches the reference obstacle\")\n",
    "input(\"Press enter when robot is in position\")\n",
    "robot.end_freedrive_mode()\n",
    "reference_obstacle = ref_standing_block\n",
    "calibration_config = robot.get_config()\n",
    "z_offset = vamp_iface.calibrate_z(calibration_config, reference_obstacle)\n",
    "print(f\"Calibrated z offset: {z_offset}\")\n",
    "print(f\"modify the z offset in env_consts.py\")\n",
    "robot.close()"
   ]
  },
  {
   "cell_type": "markdown",
   "metadata": {},
   "source": [
    "## Example of real time replanning with dynamic obstacles"
   ]
  },
  {
   "cell_type": "code",
   "execution_count": null,
   "metadata": {},
   "outputs": [],
   "source": [
    "# Note: this function assumes that there exists a way to get dynamic obstalces in the environment\n",
    "robot = rtdeRobot(ip)\n",
    "vamp_iface = VampInterface()\n",
    "\n",
    "start_config = home\n",
    "target_config = robot.get_IK(target_pose, home)\n",
    "\n",
    "for cube in obstacle_blocks:\n",
    "    vamp_iface.add_cuboid_obstacle(cube)\n",
    "\n",
    "plan = vamp_iface.plan(start_config, target_config)\n",
    "robot.execute_plan(plan, speed=1.7, acceleration=0.5, is_async=True)\n",
    "while not np.allclose(robot.get_config(), target_config, atol=1e-2):\n",
    "    vamp_iface.reset_dynamic_obstacles()\n",
    "    dynamic_obstacles: list[list[float]] = ... # get dynamic obstacles from the camera\n",
    "    vamp_iface.set_dynamic_obstacles(dynamic_obstacles)\n",
    "    if not vamp_iface.validate_plan(plan):\n",
    "        print(\"Plan is invalid, replanning\")\n",
    "        robot.stop()\n",
    "        plan = vamp_iface.plan(robot.get_config(), target_config)\n",
    "        robot.execute_plan(plan, speed=1.7, acceleration=0.5, is_async=True)"
   ]
  }
 ],
 "metadata": {
  "kernelspec": {
   "display_name": "Python 3",
   "language": "python",
   "name": "python3"
  },
  "language_info": {
   "codemirror_mode": {
    "name": "ipython",
    "version": 3
   },
   "file_extension": ".py",
   "mimetype": "text/x-python",
   "name": "python",
   "nbconvert_exporter": "python",
   "pygments_lexer": "ipython3",
   "version": "3.12.3"
  }
 },
 "nbformat": 4,
 "nbformat_minor": 2
}
